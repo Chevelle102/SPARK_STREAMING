{
 "cells": [
  {
   "cell_type": "code",
   "execution_count": 14,
   "metadata": {
    "collapsed": true
   },
   "outputs": [],
   "source": [
    "from kafka import KafkaProducer\n",
    "from kafka.errors import KafkaError\n",
    "import kafka"
   ]
  },
  {
   "cell_type": "code",
   "execution_count": 20,
   "metadata": {
    "collapsed": true
   },
   "outputs": [],
   "source": [
    "producer=KafkaProducer(bootstrap_servers='localhost:9092')"
   ]
  },
  {
   "cell_type": "code",
   "execution_count": 25,
   "metadata": {},
   "outputs": [
    {
     "name": "stdout",
     "output_type": "stream",
     "text": [
      "Created topic \"uah5\".\r\n"
     ]
    }
   ],
   "source": [
    "!/home/kafka/kafka_2.11-1.0.0/bin/kafka-topics.sh --zookeeper localhost:2181 --create --topic uah5 --partitions 2 --replication-factor 1"
   ]
  },
  {
   "cell_type": "code",
   "execution_count": 44,
   "metadata": {
    "collapsed": true
   },
   "outputs": [],
   "source": [
    "def producerTxt(txt,pt):\n",
    "    for fila in txt:\n",
    "        cola=fila\n",
    "        future=producer.send('uah5', value=bytes(cola.encode('utf8')), partition=pt)\n",
    "        try:\n",
    "            result = future.get(timeout=60)\n",
    "            print(\"this is the message to send : \", result)\n",
    "\n",
    "        except KafkaError:\n",
    "            log.exception()\n",
    "            pass"
   ]
  },
  {
   "cell_type": "code",
   "execution_count": 67,
   "metadata": {
    "collapsed": true
   },
   "outputs": [],
   "source": [
    "ds1 = open('test1.txt')\n",
    "ds2 = open('test2.txt')"
   ]
  },
  {
   "cell_type": "code",
   "execution_count": 68,
   "metadata": {
    "collapsed": true
   },
   "outputs": [
    {
     "name": "stdout",
     "output_type": "stream",
     "text": [
      "this is the message to send :  RecordMetadata(topic='uah5', partition=0, topic_partition=TopicPartition(topic='uah5', partition=0), offset=451, timestamp=-1, checksum=456680043, serialized_key_size=-1, serialized_value_size=8)\n",
      "this is the message to send :  RecordMetadata(topic='uah5', partition=0, topic_partition=TopicPartition(topic='uah5', partition=0), offset=452, timestamp=-1, checksum=1873079330, serialized_key_size=-1, serialized_value_size=8)\n",
      "this is the message to send :  RecordMetadata(topic='uah5', partition=0, topic_partition=TopicPartition(topic='uah5', partition=0), offset=453, timestamp=-1, checksum=488729333, serialized_key_size=-1, serialized_value_size=8)\n",
      "this is the message to send :  RecordMetadata(topic='uah5', partition=0, topic_partition=TopicPartition(topic='uah5', partition=0), offset=454, timestamp=-1, checksum=427888061, serialized_key_size=-1, serialized_value_size=8)\n",
      "this is the message to send :  RecordMetadata(topic='uah5', partition=0, topic_partition=TopicPartition(topic='uah5', partition=0), offset=455, timestamp=-1, checksum=1795459946, serialized_key_size=-1, serialized_value_size=8)\n",
      "this is the message to send :  RecordMetadata(topic='uah5', partition=0, topic_partition=TopicPartition(topic='uah5', partition=0), offset=456, timestamp=-1, checksum=446320525, serialized_key_size=-1, serialized_value_size=8)\n",
      "this is the message to send :  RecordMetadata(topic='uah5', partition=0, topic_partition=TopicPartition(topic='uah5', partition=0), offset=457, timestamp=-1, checksum=1298304894, serialized_key_size=-1, serialized_value_size=8)\n",
      "this is the message to send :  RecordMetadata(topic='uah5', partition=0, topic_partition=TopicPartition(topic='uah5', partition=0), offset=458, timestamp=-1, checksum=1624418002, serialized_key_size=-1, serialized_value_size=8)\n",
      "this is the message to send :  RecordMetadata(topic='uah5', partition=0, topic_partition=TopicPartition(topic='uah5', partition=0), offset=459, timestamp=-1, checksum=1944167640, serialized_key_size=-1, serialized_value_size=8)\n",
      "this is the message to send :  RecordMetadata(topic='uah5', partition=0, topic_partition=TopicPartition(topic='uah5', partition=0), offset=460, timestamp=-1, checksum=-1894608934, serialized_key_size=-1, serialized_value_size=10)\n",
      "this is the message to send :  RecordMetadata(topic='uah5', partition=0, topic_partition=TopicPartition(topic='uah5', partition=0), offset=461, timestamp=-1, checksum=1572171312, serialized_key_size=-1, serialized_value_size=10)\n",
      "this is the message to send :  RecordMetadata(topic='uah5', partition=0, topic_partition=TopicPartition(topic='uah5', partition=0), offset=462, timestamp=-1, checksum=210409464, serialized_key_size=-1, serialized_value_size=10)\n",
      "this is the message to send :  RecordMetadata(topic='uah5', partition=0, topic_partition=TopicPartition(topic='uah5', partition=0), offset=463, timestamp=-1, checksum=-1151397156, serialized_key_size=-1, serialized_value_size=10)\n",
      "this is the message to send :  RecordMetadata(topic='uah5', partition=0, topic_partition=TopicPartition(topic='uah5', partition=0), offset=464, timestamp=-1, checksum=2031608880, serialized_key_size=-1, serialized_value_size=10)\n",
      "this is the message to send :  RecordMetadata(topic='uah5', partition=0, topic_partition=TopicPartition(topic='uah5', partition=0), offset=465, timestamp=-1, checksum=63162307, serialized_key_size=-1, serialized_value_size=10)\n",
      "this is the message to send :  RecordMetadata(topic='uah5', partition=0, topic_partition=TopicPartition(topic='uah5', partition=0), offset=466, timestamp=-1, checksum=1819718577, serialized_key_size=-1, serialized_value_size=10)\n",
      "this is the message to send :  RecordMetadata(topic='uah5', partition=0, topic_partition=TopicPartition(topic='uah5', partition=0), offset=467, timestamp=-1, checksum=-1989610928, serialized_key_size=-1, serialized_value_size=10)\n",
      "this is the message to send :  RecordMetadata(topic='uah5', partition=0, topic_partition=TopicPartition(topic='uah5', partition=0), offset=468, timestamp=-1, checksum=-429739663, serialized_key_size=-1, serialized_value_size=10)\n",
      "this is the message to send :  RecordMetadata(topic='uah5', partition=0, topic_partition=TopicPartition(topic='uah5', partition=0), offset=469, timestamp=-1, checksum=-1665756542, serialized_key_size=-1, serialized_value_size=10)\n",
      "this is the message to send :  RecordMetadata(topic='uah5', partition=0, topic_partition=TopicPartition(topic='uah5', partition=0), offset=470, timestamp=-1, checksum=1727118004, serialized_key_size=-1, serialized_value_size=10)\n",
      "this is the message to send :  RecordMetadata(topic='uah5', partition=0, topic_partition=TopicPartition(topic='uah5', partition=0), offset=471, timestamp=-1, checksum=581899517, serialized_key_size=-1, serialized_value_size=10)\n",
      "this is the message to send :  RecordMetadata(topic='uah5', partition=0, topic_partition=TopicPartition(topic='uah5', partition=0), offset=472, timestamp=-1, checksum=1180082219, serialized_key_size=-1, serialized_value_size=10)\n",
      "this is the message to send :  RecordMetadata(topic='uah5', partition=0, topic_partition=TopicPartition(topic='uah5', partition=0), offset=473, timestamp=-1, checksum=-243063537, serialized_key_size=-1, serialized_value_size=10)\n",
      "this is the message to send :  RecordMetadata(topic='uah5', partition=0, topic_partition=TopicPartition(topic='uah5', partition=0), offset=474, timestamp=-1, checksum=1199559954, serialized_key_size=-1, serialized_value_size=10)\n",
      "this is the message to send :  RecordMetadata(topic='uah5', partition=0, topic_partition=TopicPartition(topic='uah5', partition=0), offset=475, timestamp=-1, checksum=176187102, serialized_key_size=-1, serialized_value_size=10)\n",
      "this is the message to send :  RecordMetadata(topic='uah5', partition=0, topic_partition=TopicPartition(topic='uah5', partition=0), offset=476, timestamp=-1, checksum=648709218, serialized_key_size=-1, serialized_value_size=10)\n",
      "this is the message to send :  RecordMetadata(topic='uah5', partition=0, topic_partition=TopicPartition(topic='uah5', partition=0), offset=477, timestamp=-1, checksum=-998697280, serialized_key_size=-1, serialized_value_size=10)\n",
      "this is the message to send :  RecordMetadata(topic='uah5', partition=0, topic_partition=TopicPartition(topic='uah5', partition=0), offset=478, timestamp=-1, checksum=1966131260, serialized_key_size=-1, serialized_value_size=10)\n",
      "this is the message to send :  RecordMetadata(topic='uah5', partition=0, topic_partition=TopicPartition(topic='uah5', partition=0), offset=479, timestamp=-1, checksum=-1525452573, serialized_key_size=-1, serialized_value_size=10)\n",
      "this is the message to send :  RecordMetadata(topic='uah5', partition=0, topic_partition=TopicPartition(topic='uah5', partition=0), offset=480, timestamp=-1, checksum=-1192473375, serialized_key_size=-1, serialized_value_size=10)\n"
     ]
    }
   ],
   "source": [
    "producerTxt(ds1,0)"
   ]
  },
  {
   "cell_type": "code",
   "execution_count": 66,
   "metadata": {
    "collapsed": true
   },
   "outputs": [
    {
     "name": "stdout",
     "output_type": "stream",
     "text": [
      "this is the message to send :  RecordMetadata(topic='uah5', partition=0, topic_partition=TopicPartition(topic='uah5', partition=0), offset=421, timestamp=-1, checksum=-58819468, serialized_key_size=-1, serialized_value_size=10)\n",
      "this is the message to send :  RecordMetadata(topic='uah5', partition=0, topic_partition=TopicPartition(topic='uah5', partition=0), offset=422, timestamp=-1, checksum=2147156602, serialized_key_size=-1, serialized_value_size=10)\n",
      "this is the message to send :  RecordMetadata(topic='uah5', partition=0, topic_partition=TopicPartition(topic='uah5', partition=0), offset=423, timestamp=-1, checksum=815265827, serialized_key_size=-1, serialized_value_size=10)\n",
      "this is the message to send :  RecordMetadata(topic='uah5', partition=0, topic_partition=TopicPartition(topic='uah5', partition=0), offset=424, timestamp=-1, checksum=1128917056, serialized_key_size=-1, serialized_value_size=10)\n",
      "this is the message to send :  RecordMetadata(topic='uah5', partition=0, topic_partition=TopicPartition(topic='uah5', partition=0), offset=425, timestamp=-1, checksum=1651651175, serialized_key_size=-1, serialized_value_size=10)\n",
      "this is the message to send :  RecordMetadata(topic='uah5', partition=0, topic_partition=TopicPartition(topic='uah5', partition=0), offset=426, timestamp=-1, checksum=1068814772, serialized_key_size=-1, serialized_value_size=10)\n",
      "this is the message to send :  RecordMetadata(topic='uah5', partition=0, topic_partition=TopicPartition(topic='uah5', partition=0), offset=427, timestamp=-1, checksum=1448893945, serialized_key_size=-1, serialized_value_size=10)\n",
      "this is the message to send :  RecordMetadata(topic='uah5', partition=0, topic_partition=TopicPartition(topic='uah5', partition=0), offset=428, timestamp=-1, checksum=1666223221, serialized_key_size=-1, serialized_value_size=10)\n",
      "this is the message to send :  RecordMetadata(topic='uah5', partition=0, topic_partition=TopicPartition(topic='uah5', partition=0), offset=429, timestamp=-1, checksum=2095176680, serialized_key_size=-1, serialized_value_size=10)\n",
      "this is the message to send :  RecordMetadata(topic='uah5', partition=0, topic_partition=TopicPartition(topic='uah5', partition=0), offset=430, timestamp=-1, checksum=-1135035043, serialized_key_size=-1, serialized_value_size=13)\n",
      "this is the message to send :  RecordMetadata(topic='uah5', partition=0, topic_partition=TopicPartition(topic='uah5', partition=0), offset=431, timestamp=-1, checksum=253033130, serialized_key_size=-1, serialized_value_size=12)\n",
      "this is the message to send :  RecordMetadata(topic='uah5', partition=0, topic_partition=TopicPartition(topic='uah5', partition=0), offset=432, timestamp=-1, checksum=1273416366, serialized_key_size=-1, serialized_value_size=12)\n",
      "this is the message to send :  RecordMetadata(topic='uah5', partition=0, topic_partition=TopicPartition(topic='uah5', partition=0), offset=433, timestamp=-1, checksum=190331507, serialized_key_size=-1, serialized_value_size=12)\n",
      "this is the message to send :  RecordMetadata(topic='uah5', partition=0, topic_partition=TopicPartition(topic='uah5', partition=0), offset=434, timestamp=-1, checksum=869151394, serialized_key_size=-1, serialized_value_size=12)\n",
      "this is the message to send :  RecordMetadata(topic='uah5', partition=0, topic_partition=TopicPartition(topic='uah5', partition=0), offset=435, timestamp=-1, checksum=493279717, serialized_key_size=-1, serialized_value_size=12)\n",
      "this is the message to send :  RecordMetadata(topic='uah5', partition=0, topic_partition=TopicPartition(topic='uah5', partition=0), offset=436, timestamp=-1, checksum=-615230144, serialized_key_size=-1, serialized_value_size=12)\n",
      "this is the message to send :  RecordMetadata(topic='uah5', partition=0, topic_partition=TopicPartition(topic='uah5', partition=0), offset=437, timestamp=-1, checksum=1780891033, serialized_key_size=-1, serialized_value_size=12)\n",
      "this is the message to send :  RecordMetadata(topic='uah5', partition=0, topic_partition=TopicPartition(topic='uah5', partition=0), offset=438, timestamp=-1, checksum=-509848050, serialized_key_size=-1, serialized_value_size=12)\n",
      "this is the message to send :  RecordMetadata(topic='uah5', partition=0, topic_partition=TopicPartition(topic='uah5', partition=0), offset=439, timestamp=-1, checksum=-2094976409, serialized_key_size=-1, serialized_value_size=12)\n",
      "this is the message to send :  RecordMetadata(topic='uah5', partition=0, topic_partition=TopicPartition(topic='uah5', partition=0), offset=440, timestamp=-1, checksum=-1000487586, serialized_key_size=-1, serialized_value_size=12)\n",
      "this is the message to send :  RecordMetadata(topic='uah5', partition=0, topic_partition=TopicPartition(topic='uah5', partition=0), offset=441, timestamp=-1, checksum=-821614737, serialized_key_size=-1, serialized_value_size=12)\n",
      "this is the message to send :  RecordMetadata(topic='uah5', partition=0, topic_partition=TopicPartition(topic='uah5', partition=0), offset=442, timestamp=-1, checksum=-852593100, serialized_key_size=-1, serialized_value_size=12)\n",
      "this is the message to send :  RecordMetadata(topic='uah5', partition=0, topic_partition=TopicPartition(topic='uah5', partition=0), offset=443, timestamp=-1, checksum=1504581531, serialized_key_size=-1, serialized_value_size=12)\n",
      "this is the message to send :  RecordMetadata(topic='uah5', partition=0, topic_partition=TopicPartition(topic='uah5', partition=0), offset=444, timestamp=-1, checksum=583969760, serialized_key_size=-1, serialized_value_size=12)\n",
      "this is the message to send :  RecordMetadata(topic='uah5', partition=0, topic_partition=TopicPartition(topic='uah5', partition=0), offset=445, timestamp=-1, checksum=1384827698, serialized_key_size=-1, serialized_value_size=12)\n",
      "this is the message to send :  RecordMetadata(topic='uah5', partition=0, topic_partition=TopicPartition(topic='uah5', partition=0), offset=446, timestamp=-1, checksum=377027382, serialized_key_size=-1, serialized_value_size=12)\n",
      "this is the message to send :  RecordMetadata(topic='uah5', partition=0, topic_partition=TopicPartition(topic='uah5', partition=0), offset=447, timestamp=-1, checksum=769165576, serialized_key_size=-1, serialized_value_size=12)\n",
      "this is the message to send :  RecordMetadata(topic='uah5', partition=0, topic_partition=TopicPartition(topic='uah5', partition=0), offset=448, timestamp=-1, checksum=-2087654423, serialized_key_size=-1, serialized_value_size=12)\n",
      "this is the message to send :  RecordMetadata(topic='uah5', partition=0, topic_partition=TopicPartition(topic='uah5', partition=0), offset=449, timestamp=-1, checksum=-702119347, serialized_key_size=-1, serialized_value_size=12)\n",
      "this is the message to send :  RecordMetadata(topic='uah5', partition=0, topic_partition=TopicPartition(topic='uah5', partition=0), offset=450, timestamp=-1, checksum=-1571009238, serialized_key_size=-1, serialized_value_size=12)\n"
     ]
    }
   ],
   "source": [
    "producerTxt(ds2,1)"
   ]
  },
  {
   "cell_type": "code",
   "execution_count": null,
   "metadata": {
    "collapsed": true
   },
   "outputs": [],
   "source": []
  }
 ],
 "metadata": {
  "kernelspec": {
   "display_name": "Python 3",
   "language": "python",
   "name": "python3"
  },
  "language_info": {
   "codemirror_mode": {
    "name": "ipython",
    "version": 3
   },
   "file_extension": ".py",
   "mimetype": "text/x-python",
   "name": "python",
   "nbconvert_exporter": "python",
   "pygments_lexer": "ipython3",
   "version": "3.6.1"
  }
 },
 "nbformat": 4,
 "nbformat_minor": 2
}
