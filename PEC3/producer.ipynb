{
 "cells": [
  {
   "cell_type": "code",
   "execution_count": 31,
   "metadata": {
    "collapsed": true
   },
   "outputs": [],
   "source": [
    "import twitter\n",
    "import json\n",
    "import datetime\n",
    "import numpy as np\n",
    "import pandas as pd"
   ]
  },
  {
   "cell_type": "code",
   "execution_count": 32,
   "metadata": {},
   "outputs": [],
   "source": [
    "api = twitter.Api(consumer_key='BtkkTFm64VwYHAhylwmZrQLnQ',consumer_secret='JRR5PmLWz4eQxRsqKggaEClGvNKNrFKNOqsJQOuhq6LzqV9eOk',access_token_key='899356620349722625-ib6uUBhb8pYtqUUC1R5rbQfsssYEPBT',access_token_secret='FAufJvsi1hLiqwbnZI0v8HdbFwvzO1M80f4DKhc2C7wyj')"
   ]
  },
  {
   "cell_type": "code",
   "execution_count": 33,
   "metadata": {},
   "outputs": [],
   "source": [
    "statuses = api.GetSearch(term='#lavapies', count=100)"
   ]
  },
  {
   "cell_type": "code",
   "execution_count": 39,
   "metadata": {},
   "outputs": [
    {
     "name": "stdout",
     "output_type": "stream",
     "text": [
      "this is the message to send :  RecordMetadata(topic='lavapies', partition=0, topic_partition=TopicPartition(topic='lavapies', partition=0), offset=620, timestamp=1526821518874, checksum=None, serialized_key_size=-1, serialized_value_size=3990)\n",
      "this is the message to send :  RecordMetadata(topic='lavapies', partition=0, topic_partition=TopicPartition(topic='lavapies', partition=0), offset=621, timestamp=1526821518879, checksum=None, serialized_key_size=-1, serialized_value_size=6066)\n",
      "this is the message to send :  RecordMetadata(topic='lavapies', partition=0, topic_partition=TopicPartition(topic='lavapies', partition=0), offset=622, timestamp=1526821518883, checksum=None, serialized_key_size=-1, serialized_value_size=5553)\n",
      "this is the message to send :  RecordMetadata(topic='lavapies', partition=0, topic_partition=TopicPartition(topic='lavapies', partition=0), offset=623, timestamp=1526821518886, checksum=None, serialized_key_size=-1, serialized_value_size=5609)\n",
      "this is the message to send :  RecordMetadata(topic='lavapies', partition=0, topic_partition=TopicPartition(topic='lavapies', partition=0), offset=624, timestamp=1526821518890, checksum=None, serialized_key_size=-1, serialized_value_size=5486)\n",
      "this is the message to send :  RecordMetadata(topic='lavapies', partition=0, topic_partition=TopicPartition(topic='lavapies', partition=0), offset=625, timestamp=1526821518894, checksum=None, serialized_key_size=-1, serialized_value_size=3370)\n",
      "this is the message to send :  RecordMetadata(topic='lavapies', partition=0, topic_partition=TopicPartition(topic='lavapies', partition=0), offset=626, timestamp=1526821518896, checksum=None, serialized_key_size=-1, serialized_value_size=5635)\n",
      "this is the message to send :  RecordMetadata(topic='lavapies', partition=0, topic_partition=TopicPartition(topic='lavapies', partition=0), offset=627, timestamp=1526821518900, checksum=None, serialized_key_size=-1, serialized_value_size=3199)\n",
      "this is the message to send :  RecordMetadata(topic='lavapies', partition=0, topic_partition=TopicPartition(topic='lavapies', partition=0), offset=628, timestamp=1526821518903, checksum=None, serialized_key_size=-1, serialized_value_size=3031)\n",
      "this is the message to send :  RecordMetadata(topic='lavapies', partition=0, topic_partition=TopicPartition(topic='lavapies', partition=0), offset=629, timestamp=1526821518906, checksum=None, serialized_key_size=-1, serialized_value_size=5542)\n",
      "this is the message to send :  RecordMetadata(topic='lavapies', partition=0, topic_partition=TopicPartition(topic='lavapies', partition=0), offset=630, timestamp=1526821518910, checksum=None, serialized_key_size=-1, serialized_value_size=5493)\n",
      "this is the message to send :  RecordMetadata(topic='lavapies', partition=0, topic_partition=TopicPartition(topic='lavapies', partition=0), offset=631, timestamp=1526821518914, checksum=None, serialized_key_size=-1, serialized_value_size=5651)\n",
      "this is the message to send :  RecordMetadata(topic='lavapies', partition=0, topic_partition=TopicPartition(topic='lavapies', partition=0), offset=632, timestamp=1526821518917, checksum=None, serialized_key_size=-1, serialized_value_size=5570)\n",
      "this is the message to send :  RecordMetadata(topic='lavapies', partition=0, topic_partition=TopicPartition(topic='lavapies', partition=0), offset=633, timestamp=1526821518921, checksum=None, serialized_key_size=-1, serialized_value_size=5595)\n",
      "this is the message to send :  RecordMetadata(topic='lavapies', partition=0, topic_partition=TopicPartition(topic='lavapies', partition=0), offset=634, timestamp=1526821518925, checksum=None, serialized_key_size=-1, serialized_value_size=5760)\n",
      "this is the message to send :  RecordMetadata(topic='lavapies', partition=0, topic_partition=TopicPartition(topic='lavapies', partition=0), offset=635, timestamp=1526821518928, checksum=None, serialized_key_size=-1, serialized_value_size=5712)\n",
      "this is the message to send :  RecordMetadata(topic='lavapies', partition=0, topic_partition=TopicPartition(topic='lavapies', partition=0), offset=636, timestamp=1526821518930, checksum=None, serialized_key_size=-1, serialized_value_size=5632)\n",
      "this is the message to send :  RecordMetadata(topic='lavapies', partition=0, topic_partition=TopicPartition(topic='lavapies', partition=0), offset=637, timestamp=1526821518935, checksum=None, serialized_key_size=-1, serialized_value_size=5656)\n",
      "this is the message to send :  RecordMetadata(topic='lavapies', partition=0, topic_partition=TopicPartition(topic='lavapies', partition=0), offset=638, timestamp=1526821518939, checksum=None, serialized_key_size=-1, serialized_value_size=5858)\n",
      "this is the message to send :  RecordMetadata(topic='lavapies', partition=0, topic_partition=TopicPartition(topic='lavapies', partition=0), offset=639, timestamp=1526821518943, checksum=None, serialized_key_size=-1, serialized_value_size=5928)\n",
      "this is the message to send :  RecordMetadata(topic='lavapies', partition=0, topic_partition=TopicPartition(topic='lavapies', partition=0), offset=640, timestamp=1526821518947, checksum=None, serialized_key_size=-1, serialized_value_size=3135)\n",
      "this is the message to send :  RecordMetadata(topic='lavapies', partition=0, topic_partition=TopicPartition(topic='lavapies', partition=0), offset=641, timestamp=1526821518950, checksum=None, serialized_key_size=-1, serialized_value_size=3135)\n",
      "this is the message to send :  RecordMetadata(topic='lavapies', partition=0, topic_partition=TopicPartition(topic='lavapies', partition=0), offset=642, timestamp=1526821518954, checksum=None, serialized_key_size=-1, serialized_value_size=5552)\n",
      "this is the message to send :  RecordMetadata(topic='lavapies', partition=0, topic_partition=TopicPartition(topic='lavapies', partition=0), offset=643, timestamp=1526821518957, checksum=None, serialized_key_size=-1, serialized_value_size=5839)\n",
      "this is the message to send :  RecordMetadata(topic='lavapies', partition=0, topic_partition=TopicPartition(topic='lavapies', partition=0), offset=644, timestamp=1526821518961, checksum=None, serialized_key_size=-1, serialized_value_size=6687)\n",
      "this is the message to send :  RecordMetadata(topic='lavapies', partition=0, topic_partition=TopicPartition(topic='lavapies', partition=0), offset=645, timestamp=1526821518965, checksum=None, serialized_key_size=-1, serialized_value_size=5743)\n",
      "this is the message to send :  RecordMetadata(topic='lavapies', partition=0, topic_partition=TopicPartition(topic='lavapies', partition=0), offset=646, timestamp=1526821518968, checksum=None, serialized_key_size=-1, serialized_value_size=2641)\n",
      "this is the message to send :  RecordMetadata(topic='lavapies', partition=0, topic_partition=TopicPartition(topic='lavapies', partition=0), offset=647, timestamp=1526821518971, checksum=None, serialized_key_size=-1, serialized_value_size=5812)\n",
      "this is the message to send :  RecordMetadata(topic='lavapies', partition=0, topic_partition=TopicPartition(topic='lavapies', partition=0), offset=648, timestamp=1526821518974, checksum=None, serialized_key_size=-1, serialized_value_size=5768)\n",
      "this is the message to send :  RecordMetadata(topic='lavapies', partition=0, topic_partition=TopicPartition(topic='lavapies', partition=0), offset=649, timestamp=1526821518977, checksum=None, serialized_key_size=-1, serialized_value_size=5725)\n",
      "this is the message to send :  RecordMetadata(topic='lavapies', partition=0, topic_partition=TopicPartition(topic='lavapies', partition=0), offset=650, timestamp=1526821518982, checksum=None, serialized_key_size=-1, serialized_value_size=5966)\n",
      "this is the message to send :  RecordMetadata(topic='lavapies', partition=0, topic_partition=TopicPartition(topic='lavapies', partition=0), offset=651, timestamp=1526821518986, checksum=None, serialized_key_size=-1, serialized_value_size=5640)\n",
      "this is the message to send :  RecordMetadata(topic='lavapies', partition=0, topic_partition=TopicPartition(topic='lavapies', partition=0), offset=652, timestamp=1526821518990, checksum=None, serialized_key_size=-1, serialized_value_size=5801)\n",
      "this is the message to send :  RecordMetadata(topic='lavapies', partition=0, topic_partition=TopicPartition(topic='lavapies', partition=0), offset=653, timestamp=1526821518993, checksum=None, serialized_key_size=-1, serialized_value_size=5587)\n",
      "this is the message to send :  RecordMetadata(topic='lavapies', partition=0, topic_partition=TopicPartition(topic='lavapies', partition=0), offset=654, timestamp=1526821518997, checksum=None, serialized_key_size=-1, serialized_value_size=5709)\n",
      "this is the message to send :  RecordMetadata(topic='lavapies', partition=0, topic_partition=TopicPartition(topic='lavapies', partition=0), offset=655, timestamp=1526821519001, checksum=None, serialized_key_size=-1, serialized_value_size=5835)\n",
      "this is the message to send :  RecordMetadata(topic='lavapies', partition=0, topic_partition=TopicPartition(topic='lavapies', partition=0), offset=656, timestamp=1526821519004, checksum=None, serialized_key_size=-1, serialized_value_size=5769)\n",
      "this is the message to send :  RecordMetadata(topic='lavapies', partition=0, topic_partition=TopicPartition(topic='lavapies', partition=0), offset=657, timestamp=1526821519008, checksum=None, serialized_key_size=-1, serialized_value_size=5784)\n",
      "this is the message to send :  RecordMetadata(topic='lavapies', partition=0, topic_partition=TopicPartition(topic='lavapies', partition=0), offset=658, timestamp=1526821519012, checksum=None, serialized_key_size=-1, serialized_value_size=5697)\n",
      "this is the message to send :  RecordMetadata(topic='lavapies', partition=0, topic_partition=TopicPartition(topic='lavapies', partition=0), offset=659, timestamp=1526821519017, checksum=None, serialized_key_size=-1, serialized_value_size=5727)\n",
      "this is the message to send :  RecordMetadata(topic='lavapies', partition=0, topic_partition=TopicPartition(topic='lavapies', partition=0), offset=660, timestamp=1526821519021, checksum=None, serialized_key_size=-1, serialized_value_size=5589)\n",
      "this is the message to send :  RecordMetadata(topic='lavapies', partition=0, topic_partition=TopicPartition(topic='lavapies', partition=0), offset=661, timestamp=1526821519024, checksum=None, serialized_key_size=-1, serialized_value_size=5810)\n",
      "this is the message to send :  RecordMetadata(topic='lavapies', partition=0, topic_partition=TopicPartition(topic='lavapies', partition=0), offset=662, timestamp=1526821519028, checksum=None, serialized_key_size=-1, serialized_value_size=6220)\n",
      "this is the message to send :  RecordMetadata(topic='lavapies', partition=0, topic_partition=TopicPartition(topic='lavapies', partition=0), offset=663, timestamp=1526821519032, checksum=None, serialized_key_size=-1, serialized_value_size=5773)\n",
      "this is the message to send :  RecordMetadata(topic='lavapies', partition=0, topic_partition=TopicPartition(topic='lavapies', partition=0), offset=664, timestamp=1526821519036, checksum=None, serialized_key_size=-1, serialized_value_size=6042)\n",
      "this is the message to send :  RecordMetadata(topic='lavapies', partition=0, topic_partition=TopicPartition(topic='lavapies', partition=0), offset=665, timestamp=1526821519039, checksum=None, serialized_key_size=-1, serialized_value_size=6031)\n",
      "this is the message to send :  RecordMetadata(topic='lavapies', partition=0, topic_partition=TopicPartition(topic='lavapies', partition=0), offset=666, timestamp=1526821519043, checksum=None, serialized_key_size=-1, serialized_value_size=5640)\n",
      "this is the message to send :  RecordMetadata(topic='lavapies', partition=0, topic_partition=TopicPartition(topic='lavapies', partition=0), offset=667, timestamp=1526821519047, checksum=None, serialized_key_size=-1, serialized_value_size=5926)\n",
      "this is the message to send :  RecordMetadata(topic='lavapies', partition=0, topic_partition=TopicPartition(topic='lavapies', partition=0), offset=668, timestamp=1526821519050, checksum=None, serialized_key_size=-1, serialized_value_size=5616)\n",
      "this is the message to send :  RecordMetadata(topic='lavapies', partition=0, topic_partition=TopicPartition(topic='lavapies', partition=0), offset=669, timestamp=1526821519053, checksum=None, serialized_key_size=-1, serialized_value_size=5642)\n",
      "this is the message to send :  RecordMetadata(topic='lavapies', partition=0, topic_partition=TopicPartition(topic='lavapies', partition=0), offset=670, timestamp=1526821519057, checksum=None, serialized_key_size=-1, serialized_value_size=8542)\n",
      "this is the message to send :  RecordMetadata(topic='lavapies', partition=0, topic_partition=TopicPartition(topic='lavapies', partition=0), offset=671, timestamp=1526821519062, checksum=None, serialized_key_size=-1, serialized_value_size=5793)\n",
      "this is the message to send :  RecordMetadata(topic='lavapies', partition=0, topic_partition=TopicPartition(topic='lavapies', partition=0), offset=672, timestamp=1526821519066, checksum=None, serialized_key_size=-1, serialized_value_size=5583)\n",
      "this is the message to send :  RecordMetadata(topic='lavapies', partition=0, topic_partition=TopicPartition(topic='lavapies', partition=0), offset=673, timestamp=1526821519069, checksum=None, serialized_key_size=-1, serialized_value_size=8129)\n",
      "this is the message to send :  RecordMetadata(topic='lavapies', partition=0, topic_partition=TopicPartition(topic='lavapies', partition=0), offset=674, timestamp=1526821519073, checksum=None, serialized_key_size=-1, serialized_value_size=5801)\n"
     ]
    },
    {
     "name": "stdout",
     "output_type": "stream",
     "text": [
      "this is the message to send :  RecordMetadata(topic='lavapies', partition=0, topic_partition=TopicPartition(topic='lavapies', partition=0), offset=675, timestamp=1526821519077, checksum=None, serialized_key_size=-1, serialized_value_size=5554)\n",
      "this is the message to send :  RecordMetadata(topic='lavapies', partition=0, topic_partition=TopicPartition(topic='lavapies', partition=0), offset=676, timestamp=1526821519080, checksum=None, serialized_key_size=-1, serialized_value_size=5735)\n",
      "this is the message to send :  RecordMetadata(topic='lavapies', partition=0, topic_partition=TopicPartition(topic='lavapies', partition=0), offset=677, timestamp=1526821519084, checksum=None, serialized_key_size=-1, serialized_value_size=5757)\n",
      "this is the message to send :  RecordMetadata(topic='lavapies', partition=0, topic_partition=TopicPartition(topic='lavapies', partition=0), offset=678, timestamp=1526821519088, checksum=None, serialized_key_size=-1, serialized_value_size=5545)\n",
      "this is the message to send :  RecordMetadata(topic='lavapies', partition=0, topic_partition=TopicPartition(topic='lavapies', partition=0), offset=679, timestamp=1526821519091, checksum=None, serialized_key_size=-1, serialized_value_size=5568)\n",
      "this is the message to send :  RecordMetadata(topic='lavapies', partition=0, topic_partition=TopicPartition(topic='lavapies', partition=0), offset=680, timestamp=1526821519095, checksum=None, serialized_key_size=-1, serialized_value_size=5733)\n",
      "this is the message to send :  RecordMetadata(topic='lavapies', partition=0, topic_partition=TopicPartition(topic='lavapies', partition=0), offset=681, timestamp=1526821519099, checksum=None, serialized_key_size=-1, serialized_value_size=5640)\n",
      "this is the message to send :  RecordMetadata(topic='lavapies', partition=0, topic_partition=TopicPartition(topic='lavapies', partition=0), offset=682, timestamp=1526821519106, checksum=None, serialized_key_size=-1, serialized_value_size=5566)\n",
      "this is the message to send :  RecordMetadata(topic='lavapies', partition=0, topic_partition=TopicPartition(topic='lavapies', partition=0), offset=683, timestamp=1526821519110, checksum=None, serialized_key_size=-1, serialized_value_size=5683)\n",
      "this is the message to send :  RecordMetadata(topic='lavapies', partition=0, topic_partition=TopicPartition(topic='lavapies', partition=0), offset=684, timestamp=1526821519113, checksum=None, serialized_key_size=-1, serialized_value_size=5918)\n",
      "this is the message to send :  RecordMetadata(topic='lavapies', partition=0, topic_partition=TopicPartition(topic='lavapies', partition=0), offset=685, timestamp=1526821519117, checksum=None, serialized_key_size=-1, serialized_value_size=5750)\n",
      "this is the message to send :  RecordMetadata(topic='lavapies', partition=0, topic_partition=TopicPartition(topic='lavapies', partition=0), offset=686, timestamp=1526821519120, checksum=None, serialized_key_size=-1, serialized_value_size=5565)\n",
      "this is the message to send :  RecordMetadata(topic='lavapies', partition=0, topic_partition=TopicPartition(topic='lavapies', partition=0), offset=687, timestamp=1526821519124, checksum=None, serialized_key_size=-1, serialized_value_size=5795)\n",
      "this is the message to send :  RecordMetadata(topic='lavapies', partition=0, topic_partition=TopicPartition(topic='lavapies', partition=0), offset=688, timestamp=1526821519127, checksum=None, serialized_key_size=-1, serialized_value_size=5807)\n",
      "this is the message to send :  RecordMetadata(topic='lavapies', partition=0, topic_partition=TopicPartition(topic='lavapies', partition=0), offset=689, timestamp=1526821519134, checksum=None, serialized_key_size=-1, serialized_value_size=5966)\n",
      "this is the message to send :  RecordMetadata(topic='lavapies', partition=0, topic_partition=TopicPartition(topic='lavapies', partition=0), offset=690, timestamp=1526821519138, checksum=None, serialized_key_size=-1, serialized_value_size=5804)\n",
      "this is the message to send :  RecordMetadata(topic='lavapies', partition=0, topic_partition=TopicPartition(topic='lavapies', partition=0), offset=691, timestamp=1526821519142, checksum=None, serialized_key_size=-1, serialized_value_size=5994)\n",
      "this is the message to send :  RecordMetadata(topic='lavapies', partition=0, topic_partition=TopicPartition(topic='lavapies', partition=0), offset=692, timestamp=1526821519146, checksum=None, serialized_key_size=-1, serialized_value_size=5584)\n",
      "this is the message to send :  RecordMetadata(topic='lavapies', partition=0, topic_partition=TopicPartition(topic='lavapies', partition=0), offset=693, timestamp=1526821519149, checksum=None, serialized_key_size=-1, serialized_value_size=5742)\n",
      "this is the message to send :  RecordMetadata(topic='lavapies', partition=0, topic_partition=TopicPartition(topic='lavapies', partition=0), offset=694, timestamp=1526821519158, checksum=None, serialized_key_size=-1, serialized_value_size=5925)\n",
      "this is the message to send :  RecordMetadata(topic='lavapies', partition=0, topic_partition=TopicPartition(topic='lavapies', partition=0), offset=695, timestamp=1526821519169, checksum=None, serialized_key_size=-1, serialized_value_size=5738)\n",
      "this is the message to send :  RecordMetadata(topic='lavapies', partition=0, topic_partition=TopicPartition(topic='lavapies', partition=0), offset=696, timestamp=1526821519175, checksum=None, serialized_key_size=-1, serialized_value_size=5996)\n",
      "this is the message to send :  RecordMetadata(topic='lavapies', partition=0, topic_partition=TopicPartition(topic='lavapies', partition=0), offset=697, timestamp=1526821519180, checksum=None, serialized_key_size=-1, serialized_value_size=5843)\n",
      "this is the message to send :  RecordMetadata(topic='lavapies', partition=0, topic_partition=TopicPartition(topic='lavapies', partition=0), offset=698, timestamp=1526821519184, checksum=None, serialized_key_size=-1, serialized_value_size=5888)\n",
      "this is the message to send :  RecordMetadata(topic='lavapies', partition=0, topic_partition=TopicPartition(topic='lavapies', partition=0), offset=699, timestamp=1526821519188, checksum=None, serialized_key_size=-1, serialized_value_size=5834)\n",
      "this is the message to send :  RecordMetadata(topic='lavapies', partition=0, topic_partition=TopicPartition(topic='lavapies', partition=0), offset=700, timestamp=1526821519193, checksum=None, serialized_key_size=-1, serialized_value_size=2639)\n",
      "this is the message to send :  RecordMetadata(topic='lavapies', partition=0, topic_partition=TopicPartition(topic='lavapies', partition=0), offset=701, timestamp=1526821519196, checksum=None, serialized_key_size=-1, serialized_value_size=5676)\n",
      "this is the message to send :  RecordMetadata(topic='lavapies', partition=0, topic_partition=TopicPartition(topic='lavapies', partition=0), offset=702, timestamp=1526821519200, checksum=None, serialized_key_size=-1, serialized_value_size=8807)\n",
      "this is the message to send :  RecordMetadata(topic='lavapies', partition=0, topic_partition=TopicPartition(topic='lavapies', partition=0), offset=703, timestamp=1526821519204, checksum=None, serialized_key_size=-1, serialized_value_size=5571)\n",
      "this is the message to send :  RecordMetadata(topic='lavapies', partition=0, topic_partition=TopicPartition(topic='lavapies', partition=0), offset=704, timestamp=1526821519209, checksum=None, serialized_key_size=-1, serialized_value_size=6086)\n",
      "this is the message to send :  RecordMetadata(topic='lavapies', partition=0, topic_partition=TopicPartition(topic='lavapies', partition=0), offset=705, timestamp=1526821519213, checksum=None, serialized_key_size=-1, serialized_value_size=5696)\n",
      "this is the message to send :  RecordMetadata(topic='lavapies', partition=0, topic_partition=TopicPartition(topic='lavapies', partition=0), offset=706, timestamp=1526821519217, checksum=None, serialized_key_size=-1, serialized_value_size=3026)\n",
      "this is the message to send :  RecordMetadata(topic='lavapies', partition=0, topic_partition=TopicPartition(topic='lavapies', partition=0), offset=707, timestamp=1526821519220, checksum=None, serialized_key_size=-1, serialized_value_size=6069)\n",
      "this is the message to send :  RecordMetadata(topic='lavapies', partition=0, topic_partition=TopicPartition(topic='lavapies', partition=0), offset=708, timestamp=1526821519226, checksum=None, serialized_key_size=-1, serialized_value_size=5722)\n",
      "this is the message to send :  RecordMetadata(topic='lavapies', partition=0, topic_partition=TopicPartition(topic='lavapies', partition=0), offset=709, timestamp=1526821519230, checksum=None, serialized_key_size=-1, serialized_value_size=5780)\n",
      "this is the message to send :  RecordMetadata(topic='lavapies', partition=0, topic_partition=TopicPartition(topic='lavapies', partition=0), offset=710, timestamp=1526821519235, checksum=None, serialized_key_size=-1, serialized_value_size=5567)\n",
      "this is the message to send :  RecordMetadata(topic='lavapies', partition=0, topic_partition=TopicPartition(topic='lavapies', partition=0), offset=711, timestamp=1526821519240, checksum=None, serialized_key_size=-1, serialized_value_size=5998)\n",
      "this is the message to send :  RecordMetadata(topic='lavapies', partition=0, topic_partition=TopicPartition(topic='lavapies', partition=0), offset=712, timestamp=1526821519244, checksum=None, serialized_key_size=-1, serialized_value_size=5703)\n",
      "this is the message to send :  RecordMetadata(topic='lavapies', partition=0, topic_partition=TopicPartition(topic='lavapies', partition=0), offset=713, timestamp=1526821519248, checksum=None, serialized_key_size=-1, serialized_value_size=5572)\n",
      "this is the message to send :  RecordMetadata(topic='lavapies', partition=0, topic_partition=TopicPartition(topic='lavapies', partition=0), offset=714, timestamp=1526821519251, checksum=None, serialized_key_size=-1, serialized_value_size=5691)\n",
      "this is the message to send :  RecordMetadata(topic='lavapies', partition=0, topic_partition=TopicPartition(topic='lavapies', partition=0), offset=715, timestamp=1526821519255, checksum=None, serialized_key_size=-1, serialized_value_size=5642)\n",
      "this is the message to send :  RecordMetadata(topic='lavapies', partition=0, topic_partition=TopicPartition(topic='lavapies', partition=0), offset=716, timestamp=1526821519259, checksum=None, serialized_key_size=-1, serialized_value_size=6059)\n",
      "this is the message to send :  RecordMetadata(topic='lavapies', partition=0, topic_partition=TopicPartition(topic='lavapies', partition=0), offset=717, timestamp=1526821519261, checksum=None, serialized_key_size=-1, serialized_value_size=5813)\n",
      "this is the message to send :  RecordMetadata(topic='lavapies', partition=0, topic_partition=TopicPartition(topic='lavapies', partition=0), offset=718, timestamp=1526821519266, checksum=None, serialized_key_size=-1, serialized_value_size=5425)\n",
      "this is the message to send :  RecordMetadata(topic='lavapies', partition=0, topic_partition=TopicPartition(topic='lavapies', partition=0), offset=719, timestamp=1526821519270, checksum=None, serialized_key_size=-1, serialized_value_size=5979)\n"
     ]
    }
   ],
   "source": [
    "from kafka import KafkaProducer\n",
    "from kafka.errors import KafkaError\n",
    "producer=KafkaProducer(bootstrap_servers='192.168.1.71:9092')\n",
    "for s in statuses:\n",
    "    json_str = json.dumps(s._json)    \n",
    "    future=producer.send('lavapies', value=bytes(json_str.encode(\"utf-8\")))\n",
    "    try:\n",
    "        result = future.get(timeout=60)\n",
    "        print(\"this is the message to send : \", result)\n",
    "        \n",
    "    except KafkaError:\n",
    "        log.exception()\n",
    "        pass"
   ]
  }
 ],
 "metadata": {
  "kernelspec": {
   "display_name": "Python 3",
   "language": "python",
   "name": "python3"
  },
  "language_info": {
   "codemirror_mode": {
    "name": "ipython",
    "version": 3
   },
   "file_extension": ".py",
   "mimetype": "text/x-python",
   "name": "python",
   "nbconvert_exporter": "python",
   "pygments_lexer": "ipython3",
   "version": "3.6.1"
  }
 },
 "nbformat": 4,
 "nbformat_minor": 2
}
